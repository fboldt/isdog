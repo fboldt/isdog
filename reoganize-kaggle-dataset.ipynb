{
 "cells": [
  {
   "cell_type": "code",
   "execution_count": 13,
   "metadata": {},
   "outputs": [],
   "source": [
    "import os, pathlib\n",
    "\n",
    "train_ori = pathlib.Path('dog-breed-identification/train')\n",
    "test_ori = pathlib.Path('dog-breed-identification/test')\n",
    "\n",
    "if not os.path.exists('kaggle'):\n",
    "    os.makedirs('kaggle')\n",
    "kaggle = pathlib.Path('kaggle')\n",
    "if not os.path.exists(kaggle / 'train'):\n",
    "    os.makedirs(kaggle / 'train')\n",
    "train_dir = pathlib.Path(kaggle / 'train')\n",
    "if not os.path.exists(kaggle / 'test'):\n",
    "    os.makedirs(kaggle / 'test')\n",
    "test_dir = pathlib.Path(kaggle / 'test')"
   ]
  },
  {
   "cell_type": "code",
   "execution_count": 21,
   "metadata": {},
   "outputs": [],
   "source": [
    "import shutil\n",
    "def move_images(breed, dest_dir, source_dir):\n",
    "    _ = os.path.join(dest_dir, breed)\n",
    "    if not os.path.exists(_):\n",
    "        os.makedirs(_)\n",
    "    images = labels[labels.breed == breed]['id']\n",
    "    for image in images:\n",
    "        source = os.path.join(source_dir, f'{image}.jpg')\n",
    "        destination = os.path.join(dest_dir, breed,f'{image}.jpg')\n",
    "        if os.path.exists(source):\n",
    "            shutil.copyfile(source, destination)"
   ]
  },
  {
   "cell_type": "code",
   "execution_count": 22,
   "metadata": {},
   "outputs": [],
   "source": [
    "import pandas as pd\n",
    "\n",
    "train_ori = pathlib.Path('dog-breed-identification/train')\n",
    "test_ori = pathlib.Path('dog-breed-identification/test')\n",
    "\n",
    "labels = pd.read_csv('./dog-breed-identification/labels.csv')\n",
    "breeds = labels.breed.unique()\n",
    "for breed in breeds:\n",
    "    move_images(breed, train_dir, train_ori)\n",
    "    move_images(breed, test_dir, test_ori)"
   ]
  }
 ],
 "metadata": {
  "kernelspec": {
   "display_name": "tf",
   "language": "python",
   "name": "python3"
  },
  "language_info": {
   "codemirror_mode": {
    "name": "ipython",
    "version": 3
   },
   "file_extension": ".py",
   "mimetype": "text/x-python",
   "name": "python",
   "nbconvert_exporter": "python",
   "pygments_lexer": "ipython3",
   "version": "3.10.11"
  },
  "orig_nbformat": 4
 },
 "nbformat": 4,
 "nbformat_minor": 2
}
