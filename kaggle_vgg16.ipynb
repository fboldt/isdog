{
  "nbformat": 4,
  "nbformat_minor": 0,
  "metadata": {
    "colab": {
      "provenance": [],
      "gpuType": "T4",
      "authorship_tag": "ABX9TyN8xOSjy118UN9XBzlcBqmN",
      "include_colab_link": true
    },
    "kernelspec": {
      "name": "python3",
      "display_name": "Python 3"
    },
    "language_info": {
      "name": "python"
    },
    "accelerator": "GPU"
  },
  "cells": [
    {
      "cell_type": "markdown",
      "metadata": {
        "id": "view-in-github",
        "colab_type": "text"
      },
      "source": [
        "<a href=\"https://colab.research.google.com/github/fboldt/isdog/blob/main/kaggle_vgg16.ipynb\" target=\"_parent\"><img src=\"https://colab.research.google.com/assets/colab-badge.svg\" alt=\"Open In Colab\"/></a>"
      ]
    },
    {
      "cell_type": "code",
      "source": [
        "# from google.colab import files\n",
        "# files.upload()\n",
        "\n",
        "# !mkdir ~/.kaggle\n",
        "# !cp kaggle.json ~/.kaggle/\n",
        "# !chmod 600 ~/.kaggle/kaggle.json\n",
        "\n",
        "# !kaggle competitions download -c dog-breed-identification\n",
        "\n",
        "# !unzip dog-breed-identification.zip"
      ],
      "metadata": {
        "id": "oYydLYTmXOFa"
      },
      "execution_count": 1,
      "outputs": []
    },
    {
      "cell_type": "code",
      "source": [
        "import os, pathlib\n",
        "import shutil\n",
        "import pandas as pd\n",
        "\n",
        "train_ori = pathlib.Path('train')\n",
        "\n",
        "newdir = 'kaggle'\n",
        "if not os.path.exists(newdir):\n",
        "    os.makedirs(newdir)\n",
        "kaggle = pathlib.Path(newdir)\n",
        "\n",
        "def move_images(image, label, dest_dir, source_dir):\n",
        "    _ = os.path.join(dest_dir, label)\n",
        "    if not os.path.exists(_):\n",
        "        os.makedirs(_)\n",
        "    source = os.path.join(source_dir, f'{image}.jpg')\n",
        "    destination = os.path.join(dest_dir, label, f'{image}.jpg')\n",
        "    if os.path.exists(source) and not os.path.exists(destination):\n",
        "        shutil.copyfile(source, destination)\n",
        "\n",
        "labels = pd.read_csv('./labels.csv').to_numpy()\n",
        "for image, label in labels:\n",
        "    move_images(image, label, kaggle, train_ori)"
      ],
      "metadata": {
        "id": "F10_2JpyYfAr"
      },
      "execution_count": 2,
      "outputs": []
    },
    {
      "cell_type": "code",
      "source": [
        "image_size = 180\n",
        "batch_size = 32\n",
        "seed = 42\n",
        "validation_split=0.25"
      ],
      "metadata": {
        "id": "Lwn-R9RXdOmZ"
      },
      "execution_count": 3,
      "outputs": []
    },
    {
      "cell_type": "code",
      "source": [
        "from tensorflow.keras.utils import image_dataset_from_directory\n",
        "train_dataset = image_dataset_from_directory(newdir,\n",
        "                                             image_size=(image_size, image_size),\n",
        "                                             validation_split=validation_split,\n",
        "                                             subset=\"training\",\n",
        "                                             seed=seed,\n",
        "                                             batch_size=batch_size)\n",
        "validation_dataset = image_dataset_from_directory(newdir,\n",
        "                                             image_size=(image_size, image_size),\n",
        "                                             validation_split=validation_split,\n",
        "                                             subset=\"validation\",\n",
        "                                             seed=seed,\n",
        "                                             batch_size=batch_size)"
      ],
      "metadata": {
        "colab": {
          "base_uri": "https://localhost:8080/"
        },
        "id": "tSWmzz8aZKnv",
        "outputId": "617a7262-6c70-4206-bdf3-a7462c23c254"
      },
      "execution_count": 4,
      "outputs": [
        {
          "output_type": "stream",
          "name": "stdout",
          "text": [
            "Found 10222 files belonging to 120 classes.\n",
            "Using 7667 files for training.\n",
            "Found 10222 files belonging to 120 classes.\n",
            "Using 2555 files for validation.\n"
          ]
        }
      ]
    },
    {
      "cell_type": "code",
      "source": [
        "num_breed = 120"
      ],
      "metadata": {
        "id": "3drwwK5fc_Tp"
      },
      "execution_count": 5,
      "outputs": []
    },
    {
      "cell_type": "code",
      "source": [
        "from tensorflow import keras\n",
        "from tensorflow.keras import layers\n",
        "\n",
        "data_augmentation = keras.Sequential(\n",
        "  [\n",
        "    layers.RandomFlip(\"horizontal\"),\n",
        "    layers.RandomRotation(0.1),\n",
        "    layers.RandomZoom(0.2),\n",
        "  ]\n",
        ")\n",
        "\n",
        "conv_base = keras.applications.vgg16.VGG16(weights=\"imagenet\", include_top=False)\n",
        "conv_base.trainable = False\n",
        "\n",
        "''' # without augmentation\n",
        "inputs = conv_base.input\n",
        "x = conv_base.output\n",
        "''' # with augmentation\n",
        "inputs = keras.Input(shape=(image_size, image_size, 3))\n",
        "x = data_augmentation(inputs)\n",
        "x = keras.applications.vgg16.preprocess_input(x)\n",
        "x = conv_base(x)\n",
        "#'''\n",
        "\n",
        "x = layers.BatchNormalization()(x)\n",
        "x = layers.GlobalAveragePooling2D()(x)\n",
        "x = layers.Dense(1024, activation='relu')(x)\n",
        "x = layers.Dense(512, activation='relu')(x)\n",
        "x = layers.Dense(256, activation='relu')(x)\n",
        "x = layers.Dropout(0.2)(x)\n",
        "outputs = layers.Dense(num_breed, activation='softmax')(x)\n",
        "model = keras.Model(inputs, outputs)\n",
        "\n",
        "model.compile(loss=\"sparse_categorical_crossentropy\",\n",
        "  optimizer=\"rmsprop\",\n",
        "  metrics=[\"accuracy\"])\n",
        "\n",
        "callbacks = [\n",
        "  keras.callbacks.ModelCheckpoint(filepath=\"vgg16.x\", save_best_only=True, monitor=\"val_loss\"),\n",
        "  keras.callbacks.EarlyStopping(monitor=\"val_loss\", patience=5)\n",
        "]\n",
        "\n",
        "history = model.fit(train_dataset, epochs=30, validation_data=validation_dataset, callbacks=callbacks)"
      ],
      "metadata": {
        "colab": {
          "base_uri": "https://localhost:8080/"
        },
        "id": "CSALzGsbof5h",
        "outputId": "f8823e34-9523-4088-d791-ab79fce863d3"
      },
      "execution_count": 8,
      "outputs": [
        {
          "output_type": "stream",
          "name": "stdout",
          "text": [
            "Epoch 1/30\n",
            "240/240 [==============================] - 53s 164ms/step - loss: 3.2193 - accuracy: 0.2306 - val_loss: 1.9257 - val_accuracy: 0.4736\n",
            "Epoch 2/30\n",
            "240/240 [==============================] - 36s 147ms/step - loss: 1.9877 - accuracy: 0.4540 - val_loss: 1.8269 - val_accuracy: 0.5170\n",
            "Epoch 3/30\n",
            "240/240 [==============================] - 38s 156ms/step - loss: 1.6817 - accuracy: 0.5281 - val_loss: 1.6811 - val_accuracy: 0.5746\n",
            "Epoch 4/30\n",
            "240/240 [==============================] - 32s 132ms/step - loss: 1.4668 - accuracy: 0.5768 - val_loss: 1.7440 - val_accuracy: 0.5699\n",
            "Epoch 5/30\n",
            "240/240 [==============================] - 32s 132ms/step - loss: 1.2960 - accuracy: 0.6244 - val_loss: 1.8756 - val_accuracy: 0.5804\n",
            "Epoch 6/30\n",
            "240/240 [==============================] - 32s 132ms/step - loss: 1.1824 - accuracy: 0.6596 - val_loss: 1.9321 - val_accuracy: 0.5800\n",
            "Epoch 7/30\n",
            "240/240 [==============================] - 32s 131ms/step - loss: 1.0202 - accuracy: 0.6983 - val_loss: 2.0104 - val_accuracy: 0.5847\n",
            "Epoch 8/30\n",
            "240/240 [==============================] - 32s 132ms/step - loss: 0.9612 - accuracy: 0.7141 - val_loss: 2.1177 - val_accuracy: 0.5847\n"
          ]
        }
      ]
    },
    {
      "cell_type": "code",
      "source": [
        "import matplotlib.pyplot as plt\n",
        "\n",
        "plt.figure(figsize=(7,5))\n",
        "plt.plot(history.history['loss'],color=\"green\",marker=\"D\")\n",
        "plt.plot(history.history['val_loss'],color=\"navy\",marker=\"H\")\n",
        "plt.grid(True)\n",
        "plt.title('model loss')\n",
        "plt.ylabel('loss')\n",
        "plt.xlabel('epoch')\n",
        "plt.legend(['Train_Loss', 'Validation_Loss'], loc='upper left')\n",
        "plt.show()"
      ],
      "metadata": {
        "colab": {
          "base_uri": "https://localhost:8080/",
          "height": 487
        },
        "id": "PrPSReDFeh5b",
        "outputId": "6a7adf06-0b44-4fa5-a07b-41c605d3395f"
      },
      "execution_count": 9,
      "outputs": [
        {
          "output_type": "display_data",
          "data": {
            "text/plain": [
              "<Figure size 700x500 with 1 Axes>"
            ],
            "image/png": "[encoded data removed]"
          },
          "metadata": {}
        }
      ]
    },
    {
      "cell_type": "code",
      "source": [
        "#test_model = keras.models.load_model(\"vgg16.x\")"
      ],
      "metadata": {
        "id": "3KvfUKG3eZY6"
      },
      "execution_count": 10,
      "outputs": []
    }
  ]
}